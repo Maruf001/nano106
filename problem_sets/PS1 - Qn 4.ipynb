{
 "metadata": {
  "name": "",
  "signature": "sha256:89d7113d674f4cf35d64277a55750cc993061b11d2208170baef93de468d8236"
 },
 "nbformat": 3,
 "nbformat_minor": 0,
 "worksheets": [
  {
   "cells": [
    {
     "cell_type": "heading",
     "level": 2,
     "metadata": {},
     "source": [
      "4. Someone has provided the following lattice vectors for Li2O2, which is of interest in state-of-the-art lithium-air batteries. "
     ]
    },
    {
     "cell_type": "code",
     "collapsed": false,
     "input": [
      "a = [1.5915, 2.756559, 0]\n",
      "b = [1.5915, -2.756559, 0]\n",
      "c = [0, 0, 7.7258]"
     ],
     "language": "python",
     "metadata": {},
     "outputs": [],
     "prompt_number": 1
    },
    {
     "cell_type": "heading",
     "level": 2,
     "metadata": {},
     "source": [
      "a. What are the lattice parameters for Li2O2?"
     ]
    },
    {
     "cell_type": "markdown",
     "metadata": {},
     "source": [
      "Solution:\n",
      "\n",
      "a = $|\\mathbf{a}|$\n",
      "\n",
      "b = $|\\mathbf{b}|$\n",
      "\n",
      "c = $|\\mathbf{c}|$\n",
      "\n",
      "$\\alpha$ = $cos^{-1}(\\frac{\\mathbf{b}.\\mathbf{c}}{|\\mathbf{b}||\\mathbf{c}|})$\n",
      "\n",
      "$\\beta$ = $cos^{-1}(\\frac{\\mathbf{a}.\\mathbf{c}}{|\\mathbf{a}||\\mathbf{c}|})$\n",
      "\n",
      "$\\gamma$ = $cos^{-1}(\\frac{\\mathbf{a}.\\mathbf{b}}{|\\mathbf{a}||\\mathbf{b}|})$"
     ]
    },
    {
     "cell_type": "code",
     "collapsed": false,
     "input": [
      "import numpy as np\n",
      "from math import acos, degrees\n",
      "\n",
      "a_length = np.linalg.norm(a)\n",
      "b_length = np.linalg.norm(b)\n",
      "c_length = np.linalg.norm(c)\n",
      "alpha_angle = degrees(acos(np.dot(b, c) / (b_length * c_length)))\n",
      "beta_angle = degrees(acos(np.dot(a, c) / (a_length * c_length)))\n",
      "gamma_angle = degrees(acos(np.dot(a, b) / (a_length * b_length)))\n",
      "print \"The lattice parameters are {%.4f, %.4f, %.4f, %.4f, %.4f, %.4f}.\" % (a_length, b_length, c_length, alpha_angle, beta_angle, gamma_angle)"
     ],
     "language": "python",
     "metadata": {},
     "outputs": [
      {
       "output_type": "stream",
       "stream": "stdout",
       "text": [
        "The lattice parameters are {3.1830, 3.1830, 7.7258, 90.0000, 90.0000, 120.0000}.\n"
       ]
      }
     ],
     "prompt_number": 2
    },
    {
     "cell_type": "heading",
     "level": 2,
     "metadata": {},
     "source": [
      "b. What is the crystal system for Li2O2?"
     ]
    },
    {
     "cell_type": "markdown",
     "metadata": {},
     "source": [
      "Solution: The cell system is hexagonal."
     ]
    }
   ],
   "metadata": {}
  }
 ]
}