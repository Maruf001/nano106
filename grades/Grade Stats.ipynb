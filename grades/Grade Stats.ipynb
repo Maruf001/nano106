{
 "cells": [
  {
   "cell_type": "code",
   "execution_count": 1,
   "metadata": {
    "collapsed": false
   },
   "outputs": [
    {
     "data": {
      "text/html": [
       "<script>\n",
       "code_show=true; \n",
       "function code_toggle() {\n",
       " if (code_show){\n",
       " $('div.input').hide();\n",
       " } else {\n",
       " $('div.input').show();\n",
       " }\n",
       " code_show = !code_show\n",
       "} \n",
       "$( document ).ready(code_toggle);\n",
       "</script>\n",
       "<form action=\"javascript:code_toggle()\"><input type=\"submit\" value=\"Click here to toggle on/off the raw code.\"></form>"
      ],
      "text/plain": [
       "<IPython.core.display.HTML object>"
      ]
     },
     "execution_count": 1,
     "metadata": {},
     "output_type": "execute_result"
    }
   ],
   "source": [
    "from IPython.display import HTML\n",
    "\n",
    "HTML('''<script>\n",
    "code_show=true; \n",
    "function code_toggle() {\n",
    " if (code_show){\n",
    " $('div.input').hide();\n",
    " } else {\n",
    " $('div.input').show();\n",
    " }\n",
    " code_show = !code_show\n",
    "} \n",
    "$( document ).ready(code_toggle);\n",
    "</script>\n",
    "<form action=\"javascript:code_toggle()\"><input type=\"submit\" value=\"Click here to toggle on/off the raw code.\"></form>''')"
   ]
  },
  {
   "cell_type": "markdown",
   "metadata": {},
   "source": [
    "# Overview\n",
    "\n",
    "This is a generalized notebook for computing grade statistics from the Ted Grade Center."
   ]
  },
  {
   "cell_type": "code",
   "execution_count": 1,
   "metadata": {
    "collapsed": false
   },
   "outputs": [
    {
     "name": "stdout",
     "output_type": "stream",
     "text": [
      "Last updated on 2016-03-21 17:25:16.683147\n"
     ]
    }
   ],
   "source": [
    "#The usual imports\n",
    "import math\n",
    "import glob\n",
    "import os\n",
    "from collections import OrderedDict\n",
    "\n",
    "from pandas import read_csv\n",
    "import numpy as np\n",
    "\n",
    "from pymatgen.util.plotting_utils import get_publication_quality_plot\n",
    "from monty.string import remove_non_ascii\n",
    "\n",
    "import prettyplotlib as ppl\n",
    "from prettyplotlib import brewer2mpl\n",
    "import matplotlib.pyplot as plt\n",
    "\n",
    "colors = brewer2mpl.get_map('Set1', 'qualitative', 8).mpl_colors\n",
    "\n",
    "import datetime\n",
    "\n",
    "%matplotlib inline\n",
    "\n",
    "print(\"Last updated on %s\" % datetime.datetime.now())"
   ]
  },
  {
   "cell_type": "markdown",
   "metadata": {},
   "source": [
    "Load data from exported CSV from Ted Full Grade Center. Some sanitization is performed to remove non-ascii characters and cruft."
   ]
  },
  {
   "cell_type": "code",
   "execution_count": 5,
   "metadata": {
    "collapsed": false
   },
   "outputs": [],
   "source": [
    "files = glob.glob(os.environ[\"NANO106GC\"])\n",
    "latest = sorted(files)[-1]\n",
    "d = read_csv(latest)\n",
    "d.columns = [remove_non_ascii(c) for c in d.columns]\n",
    "d.columns = [c.split(\"[\")[0].strip().strip(\"\\\"\") for c in d.columns]\n",
    "d[\"Weighted Total\"] = [float(s.strip(\"%\")) for s in d[\"Weighted Total\"]]"
   ]
  },
  {
   "cell_type": "markdown",
   "metadata": {},
   "source": [
    "Define lower grade cutoffs in terms of number of standard deviations from mean."
   ]
  },
  {
   "cell_type": "code",
   "execution_count": 7,
   "metadata": {
    "collapsed": false
   },
   "outputs": [
    {
     "name": "stdout",
     "output_type": "stream",
     "text": [
      "The cutoffs are:\n",
      "A+: > μ + 1.50 σ\n",
      "A: > μ + 1.00 σ\n",
      "A-: > μ + 0.75 σ\n",
      "B+: > μ + 0.50 σ\n",
      "B: > μ + 0.00 σ\n",
      "B-: > μ + -0.50 σ\n",
      "C+: > μ + -0.75 σ\n",
      "C: > μ + -1.00 σ\n",
      "C-: > μ + -1.50 σ\n",
      "F: > μ + -inf σ\n"
     ]
    }
   ],
   "source": [
    "grade_cutoffs = OrderedDict()\n",
    "grade_cutoffs[\"A+\"] = 1.5\n",
    "grade_cutoffs[\"A\"] = 1.0\n",
    "grade_cutoffs[\"A-\"] = 0.75\n",
    "grade_cutoffs[\"B+\"] = 0.5\n",
    "grade_cutoffs[\"B\"] = 0\n",
    "grade_cutoffs[\"B-\"] = -0.5\n",
    "grade_cutoffs[\"C+\"] = -0.75\n",
    "grade_cutoffs[\"C\"] = -1\n",
    "grade_cutoffs[\"C-\"] = -1.5\n",
    "grade_cutoffs[\"F\"] = float(\"-inf\")\n",
    "\n",
    "print(\"The cutoffs are:\")\n",
    "for k, v in grade_cutoffs.items():\n",
    "    print(u\"%s: > μ + %.2f σ\" % (k, v))"
   ]
  },
  {
   "cell_type": "markdown",
   "metadata": {},
   "source": [
    "Define some general functions for computing grade statistics."
   ]
  },
  {
   "cell_type": "code",
   "execution_count": 8,
   "metadata": {
    "collapsed": false
   },
   "outputs": [],
   "source": [
    "def bar_plot(dframe, data_key, offset=0, annotate=True):\n",
    "    \"\"\"\n",
    "    Creates a historgram of the results.\n",
    "    \n",
    "    Args:\n",
    "        dframe: DataFrame which is imported from CSV.\n",
    "        data_key: Specific column to plot\n",
    "        offset: Allows an offset for each grade. Defaults to 0.\n",
    "        \n",
    "    Returns:\n",
    "        dict of cutoffs, {grade: (lower, upper)}\n",
    "    \"\"\"\n",
    "    data = dframe[data_key]\n",
    "    d = filter(lambda x: (not np.isnan(x)) and x != 0, list(data))\n",
    "    heights, bins = np.histogram(d, bins=20, range=(0, 100))\n",
    "    bins = list(bins)\n",
    "    bins.pop(-1)\n",
    "    import matplotlib.pyplot as plt\n",
    "    fig, ax = plt.subplots(1)\n",
    "    ppl.bar(ax, bins, heights, width=5, color=colors[0], grid='y')\n",
    "    plt = get_publication_quality_plot(12, 8, plt)\n",
    "    plt.xlabel(\"Score\")\n",
    "    plt.ylabel(\"Number of students\")\n",
    "    #print len([d for d in data if d > 90])\n",
    "    mean = np.mean(d)\n",
    "    sigma = np.std(d)\n",
    "    maxy = np.max(heights)\n",
    "    prev_cutoff = 100\n",
    "    cutoffs = {}\n",
    "    grade = [\"A\", \"B+\", \"B\", \"B-\", \"C+\", \"C\", \"C-\", \"F\"]\n",
    "    for grade, cutoff in grade_cutoffs.items():\n",
    "        if cutoff == float(\"-inf\"):\n",
    "            cutoff = 0\n",
    "        else:\n",
    "            cutoff = max(0, mean + cutoff * sigma) + offset\n",
    "            if annotate:\n",
    "                plt.plot([cutoff] * 2, [0, maxy], 'k--')\n",
    "                plt.annotate(\"%.1f\" % cutoff, [cutoff, maxy - 1], fontsize=18, horizontalalignment='left', rotation=45)\n",
    "        n = len([d for d in data if cutoff <= d < prev_cutoff])\n",
    "        #print \"Grade %s (%.1f-%.1f): %d\" % (grade, cutoff, prev_cutoff, n)\n",
    "        if annotate:\n",
    "            plt.annotate(grade, [(cutoff + prev_cutoff) / 2, maxy], fontsize=18, horizontalalignment='center')\n",
    "        cutoffs[grade] = (cutoff, prev_cutoff)\n",
    "        prev_cutoff = cutoff\n",
    "    \n",
    "    plt.ylim([0, maxy * 1.1])\n",
    "    plt.annotate(\"$\\mu = %.1f$\\n$\\sigma = %.1f$\\n$max=%.1f$\" % (mean, sigma, data.max()), xy=(10, 7), fontsize=30)\n",
    "    title = data_key.split(\"[\")[0].strip()\n",
    "    plt.title(title, fontsize=30)\n",
    "    plt.tight_layout()\n",
    "    plt.savefig(\"%s.png\" % title)\n",
    "    return cutoffs\n",
    "\n",
    "\n",
    "def assign_grades(d, column_name, cutoffs, offset):\n",
    "    def compute_grade(pts):\n",
    "        for g, c in cutoffs.items():\n",
    "            if c[0] < pts + offset <= c[1]:\n",
    "                return g\n",
    "\n",
    "    d[\"Final_Assigned_Egrade\"] = map(compute_grade, d[column_name])\n",
    "    d.to_csv(\"Overall grades.csv\")"
   ]
  },
  {
   "cell_type": "markdown",
   "metadata": {},
   "source": [
    "# Problem Sets"
   ]
  },
  {
   "cell_type": "code",
   "execution_count": 18,
   "metadata": {
    "collapsed": false
   },
   "outputs": [],
   "source": [
    "#cutoffs = bar_plot(d, \"PS1\", annotate=True)"
   ]
  },
  {
   "cell_type": "code",
   "execution_count": 19,
   "metadata": {
    "collapsed": false
   },
   "outputs": [],
   "source": [
    "#cutoffs = bar_plot(d, \"PS2\", annotate=True)"
   ]
  },
  {
   "cell_type": "code",
   "execution_count": 20,
   "metadata": {
    "collapsed": false
   },
   "outputs": [],
   "source": [
    "#cutoffs = bar_plot(d, \"PS3\", annotate=True)"
   ]
  },
  {
   "cell_type": "code",
   "execution_count": 21,
   "metadata": {
    "collapsed": false
   },
   "outputs": [],
   "source": [
    "#cutoffs = bar_plot(d, \"PS4\", annotate=True)"
   ]
  },
  {
   "cell_type": "code",
   "execution_count": 22,
   "metadata": {
    "collapsed": false
   },
   "outputs": [],
   "source": [
    "#cutoffs = bar_plot(d, \"PS5\", annotate=True)"
   ]
  },
  {
   "cell_type": "markdown",
   "metadata": {
    "collapsed": false
   },
   "source": [
    "# Exams"
   ]
  },
  {
   "cell_type": "code",
   "execution_count": 23,
   "metadata": {
    "collapsed": false
   },
   "outputs": [],
   "source": [
    "#cutoffs = bar_plot(d, \"Mid-term 1\", annotate=True)"
   ]
  },
  {
   "cell_type": "code",
   "execution_count": 24,
   "metadata": {
    "collapsed": false
   },
   "outputs": [],
   "source": [
    "#cutoffs = bar_plot(d, \"Mid-term 2\", annotate=True)"
   ]
  },
  {
   "cell_type": "code",
   "execution_count": 25,
   "metadata": {
    "collapsed": false
   },
   "outputs": [],
   "source": [
    "#cutoffs = bar_plot(d, \"Final\", annotate=True)"
   ]
  },
  {
   "cell_type": "markdown",
   "metadata": {},
   "source": [
    "# Overall grade"
   ]
  },
  {
   "cell_type": "code",
   "execution_count": 26,
   "metadata": {
    "collapsed": false
   },
   "outputs": [],
   "source": [
    "#cutoffs = bar_plot(d, \"Weighted Total\", annotate=True)"
   ]
  },
  {
   "cell_type": "code",
   "execution_count": 15,
   "metadata": {
    "collapsed": false
   },
   "outputs": [],
   "source": [
    "# The command below is used to generate the overall grade assignments for all students and dump it into a CSV file.\n",
    "# assign_grades(d, \"Weighted Total\", cutoffs)"
   ]
  }
 ],
 "metadata": {
  "kernelspec": {
   "display_name": "Python 2",
   "language": "python",
   "name": "python2"
  },
  "language_info": {
   "codemirror_mode": {
    "name": "ipython",
    "version": 2
   },
   "file_extension": ".py",
   "mimetype": "text/x-python",
   "name": "python",
   "nbconvert_exporter": "python",
   "pygments_lexer": "ipython2",
   "version": "2.7.11"
  }
 },
 "nbformat": 4,
 "nbformat_minor": 0
}
