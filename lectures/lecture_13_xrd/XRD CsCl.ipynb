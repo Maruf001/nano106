{
 "metadata": {
  "name": "",
  "signature": "sha256:ba2d11b32ceb70848b43761f744d3d7b91de4b09d82266e479c05172b7fab19f"
 },
 "nbformat": 3,
 "nbformat_minor": 0,
 "worksheets": [
  {
   "cells": [
    {
     "cell_type": "markdown",
     "metadata": {},
     "source": [
      "# Introduction\n",
      "\n",
      "This notebook shows how to plot an XRD plot for CsCl by computing the structure factors."
     ]
    },
    {
     "cell_type": "code",
     "collapsed": false,
     "input": [
      "# Set up some imports that we will need\n",
      "import math, cmath\n",
      "from pymatgen import Lattice, Structure\n",
      "from pymatgen.util.plotting_utils import get_publication_quality_plot\n",
      "import numpy as np\n",
      "import prettyplotlib as ppl\n",
      "import matplotlib.pyplot as plt\n",
      "import matplotlib as mpl\n",
      "from prettyplotlib import brewer2mpl\n",
      "\n",
      "%matplotlib inline"
     ],
     "language": "python",
     "metadata": {},
     "outputs": [],
     "prompt_number": 49
    },
    {
     "cell_type": "code",
     "collapsed": false,
     "input": [
      "# Atomic scattering factors for Cs and Cl obtained from Structure of Materials.\n",
      "data = {\n",
      "    \"Cs\": [55, 6.062, 155.837, 5.986, 19.695, 3.303, 3.335, 1.096, 0.379],\n",
      "    \"Cl\": [17, 1.452, 30.935, 2.292, 9.980, 0.787, 2.234, 0.322, 0.323]\n",
      "}\n",
      "\n",
      "#In Ang2\n",
      "debye_waller_factors = {\n",
      "    \"Cs\": 0.1 * 100\n",
      "}\n",
      "\n",
      "CuKa = 0.1542 * 10 # Angstrom"
     ],
     "language": "python",
     "metadata": {},
     "outputs": [],
     "prompt_number": 50
    },
    {
     "cell_type": "code",
     "collapsed": false,
     "input": [
      "# Create CsCl structure\n",
      "a = 4.209 #Angstrom\n",
      "latt = Lattice.cubic(a)\n",
      "structure = Structure(latt, [\"Cs\", \"Cl\"], [[0, 0, 0], [0.5, 0.5, 0.5]])\n",
      "\n",
      "# Obtain reciprocal lattice and points within limiting sphere\n",
      "recip_latt = latt.reciprocal_lattice_crystallographic\n",
      "recip_pts = recip_latt.get_points_in_sphere([[0, 0, 0]], [0, 0, 0], 2 / CuKa)\n"
     ],
     "language": "python",
     "metadata": {},
     "outputs": [],
     "prompt_number": 51
    },
    {
     "cell_type": "code",
     "collapsed": false,
     "input": [
      "intensities = {}\n",
      "for hkl, g_hkl, ind in recip_pts:\n",
      "    if g_hkl != 0:\n",
      "        theta = math.asin(CuKa / (2 / g_hkl))\n",
      "        s = g_hkl / 2\n",
      "        s_2 = s ** 2\n",
      "        F_hkl = 0\n",
      "        for site in structure:\n",
      "            el = site.specie.symbol\n",
      "            d = data[el]\n",
      "            fs = d[0] - 41.78214 * s_2 * sum([d[2 * i + 1] * math.exp(-d[2 * i + 2] * s_2) for i in xrange(4)])\n",
      "            #if el in debye_waller_factors:\n",
      "            #    fs = fs * math.exp(- debye_waller_factors[el] * s_2)\n",
      "            F_hkl += fs * cmath.exp(2j * math.pi * np.dot(hkl, site.frac_coords))\n",
      "        \n",
      "        #Multiplicity\n",
      "        h, k, l = hkl\n",
      "        if h == 0 and k == 0:\n",
      "            m = 6\n",
      "        elif h == k and k == l:\n",
      "            m = 8\n",
      "        elif h == 0 and k == l:\n",
      "            m = 12\n",
      "        elif h == 0:\n",
      "            m = 24\n",
      "        elif h == k:\n",
      "            m = 24\n",
      "        else:\n",
      "            m = 48\n",
      "            \n",
      "        I_hkl = (F_hkl * F_hkl.conjugate()).real #* m\n",
      "        \n",
      "        lorentz_factor = (1 + math.cos(2 * theta) ** 2) / (math.sin(theta) ** 2 * math.cos(theta))\n",
      "        \n",
      "        intensities[2 * theta / math.pi * 180] = [I_hkl * lorentz_factor, hkl]\n",
      "\n",
      "cleaned_intensities = {}\n",
      "prev = 0\n",
      "for k in sorted(intensities.keys()):\n",
      "    if abs(k - prev) < 1e-8:\n",
      "        cleaned_intensities[prev][0] += intensities[k][0]\n",
      "    else:\n",
      "        cleaned_intensities[k] = intensities[k]\n",
      "        prev = k\n",
      "    \n",
      "max_intensity = 1 # max(cleaned_intensities.values())\n",
      "colors = brewer2mpl.get_map('Set1', 'qualitative', 7).mpl_colors\n",
      "fig, ax = plt.subplots(1)\n",
      "for k, v in cleaned_intensities.items():\n",
      "    ppl.plot([k, k], [0, v[0] / max_intensity * 100], color=colors[6])\n",
      "    plt.annotate(str(v[1]), xy=xytext=[k, v[0]])\n",
      "plt = get_publication_quality_plot(12, 8, plt)\n",
      "plt.legend()"
     ],
     "language": "python",
     "metadata": {},
     "outputs": [
      {
       "ename": "TypeError",
       "evalue": "__init__() takes at least 3 arguments (3 given)",
       "output_type": "pyerr",
       "traceback": [
        "\u001b[0;31m---------------------------------------------------------------------------\u001b[0m\n\u001b[0;31mTypeError\u001b[0m                                 Traceback (most recent call last)",
        "\u001b[0;32m<ipython-input-74-1bd4c384560f>\u001b[0m in \u001b[0;36m<module>\u001b[0;34m()\u001b[0m\n\u001b[1;32m     49\u001b[0m \u001b[0;32mfor\u001b[0m \u001b[0mk\u001b[0m\u001b[0;34m,\u001b[0m \u001b[0mv\u001b[0m \u001b[0;32min\u001b[0m \u001b[0mcleaned_intensities\u001b[0m\u001b[0;34m.\u001b[0m\u001b[0mitems\u001b[0m\u001b[0;34m(\u001b[0m\u001b[0;34m)\u001b[0m\u001b[0;34m:\u001b[0m\u001b[0;34m\u001b[0m\u001b[0m\n\u001b[1;32m     50\u001b[0m     \u001b[0mppl\u001b[0m\u001b[0;34m.\u001b[0m\u001b[0mplot\u001b[0m\u001b[0;34m(\u001b[0m\u001b[0;34m[\u001b[0m\u001b[0mk\u001b[0m\u001b[0;34m,\u001b[0m \u001b[0mk\u001b[0m\u001b[0;34m]\u001b[0m\u001b[0;34m,\u001b[0m \u001b[0;34m[\u001b[0m\u001b[0;36m0\u001b[0m\u001b[0;34m,\u001b[0m \u001b[0mv\u001b[0m\u001b[0;34m[\u001b[0m\u001b[0;36m0\u001b[0m\u001b[0;34m]\u001b[0m \u001b[0;34m/\u001b[0m \u001b[0mmax_intensity\u001b[0m \u001b[0;34m*\u001b[0m \u001b[0;36m100\u001b[0m\u001b[0;34m]\u001b[0m\u001b[0;34m,\u001b[0m \u001b[0mcolor\u001b[0m\u001b[0;34m=\u001b[0m\u001b[0mcolors\u001b[0m\u001b[0;34m[\u001b[0m\u001b[0;36m6\u001b[0m\u001b[0;34m]\u001b[0m\u001b[0;34m)\u001b[0m\u001b[0;34m\u001b[0m\u001b[0m\n\u001b[0;32m---> 51\u001b[0;31m     \u001b[0mplt\u001b[0m\u001b[0;34m.\u001b[0m\u001b[0mannotate\u001b[0m\u001b[0;34m(\u001b[0m\u001b[0mstr\u001b[0m\u001b[0;34m(\u001b[0m\u001b[0mv\u001b[0m\u001b[0;34m[\u001b[0m\u001b[0;36m1\u001b[0m\u001b[0;34m]\u001b[0m\u001b[0;34m)\u001b[0m\u001b[0;34m,\u001b[0m \u001b[0mxytext\u001b[0m\u001b[0;34m=\u001b[0m\u001b[0;34m[\u001b[0m\u001b[0mk\u001b[0m\u001b[0;34m,\u001b[0m \u001b[0mv\u001b[0m\u001b[0;34m[\u001b[0m\u001b[0;36m0\u001b[0m\u001b[0;34m]\u001b[0m\u001b[0;34m]\u001b[0m\u001b[0;34m)\u001b[0m\u001b[0;34m\u001b[0m\u001b[0m\n\u001b[0m\u001b[1;32m     52\u001b[0m \u001b[0mplt\u001b[0m \u001b[0;34m=\u001b[0m \u001b[0mget_publication_quality_plot\u001b[0m\u001b[0;34m(\u001b[0m\u001b[0;36m12\u001b[0m\u001b[0;34m,\u001b[0m \u001b[0;36m8\u001b[0m\u001b[0;34m,\u001b[0m \u001b[0mplt\u001b[0m\u001b[0;34m)\u001b[0m\u001b[0;34m\u001b[0m\u001b[0m\n\u001b[1;32m     53\u001b[0m \u001b[0mplt\u001b[0m\u001b[0;34m.\u001b[0m\u001b[0mlegend\u001b[0m\u001b[0;34m(\u001b[0m\u001b[0;34m)\u001b[0m\u001b[0;34m\u001b[0m\u001b[0m\n",
        "\u001b[0;32m/Library/Frameworks/Python.framework/Versions/2.7/lib/python2.7/site-packages/matplotlib/pyplot.pyc\u001b[0m in \u001b[0;36mannotate\u001b[0;34m(*args, **kwargs)\u001b[0m\n\u001b[1;32m   3403\u001b[0m \u001b[0;34m@\u001b[0m\u001b[0mdocstring\u001b[0m\u001b[0;34m.\u001b[0m\u001b[0mcopy_dedent\u001b[0m\u001b[0;34m(\u001b[0m\u001b[0mAxes\u001b[0m\u001b[0;34m.\u001b[0m\u001b[0mannotate\u001b[0m\u001b[0;34m)\u001b[0m\u001b[0;34m\u001b[0m\u001b[0m\n\u001b[1;32m   3404\u001b[0m \u001b[0;32mdef\u001b[0m \u001b[0mannotate\u001b[0m\u001b[0;34m(\u001b[0m\u001b[0;34m*\u001b[0m\u001b[0margs\u001b[0m\u001b[0;34m,\u001b[0m \u001b[0;34m**\u001b[0m\u001b[0mkwargs\u001b[0m\u001b[0;34m)\u001b[0m\u001b[0;34m:\u001b[0m\u001b[0;34m\u001b[0m\u001b[0m\n\u001b[0;32m-> 3405\u001b[0;31m     \u001b[0mret\u001b[0m \u001b[0;34m=\u001b[0m \u001b[0mgca\u001b[0m\u001b[0;34m(\u001b[0m\u001b[0;34m)\u001b[0m\u001b[0;34m.\u001b[0m\u001b[0mannotate\u001b[0m\u001b[0;34m(\u001b[0m\u001b[0;34m*\u001b[0m\u001b[0margs\u001b[0m\u001b[0;34m,\u001b[0m \u001b[0;34m**\u001b[0m\u001b[0mkwargs\u001b[0m\u001b[0;34m)\u001b[0m\u001b[0;34m\u001b[0m\u001b[0m\n\u001b[0m\u001b[1;32m   3406\u001b[0m     \u001b[0mdraw_if_interactive\u001b[0m\u001b[0;34m(\u001b[0m\u001b[0;34m)\u001b[0m\u001b[0;34m\u001b[0m\u001b[0m\n\u001b[1;32m   3407\u001b[0m     \u001b[0;32mreturn\u001b[0m \u001b[0mret\u001b[0m\u001b[0;34m\u001b[0m\u001b[0m\n",
        "\u001b[0;32m/Library/Frameworks/Python.framework/Versions/2.7/lib/python2.7/site-packages/matplotlib/axes.pyc\u001b[0m in \u001b[0;36mannotate\u001b[0;34m(self, *args, **kwargs)\u001b[0m\n\u001b[1;32m   3402\u001b[0m         \u001b[0;34m.\u001b[0m\u001b[0;34m.\u001b[0m \u001b[0mplot\u001b[0m\u001b[0;34m:\u001b[0m\u001b[0;34m:\u001b[0m \u001b[0mmpl_examples\u001b[0m\u001b[0;34m/\u001b[0m\u001b[0mpylab_examples\u001b[0m\u001b[0;34m/\u001b[0m\u001b[0mannotation_demo2\u001b[0m\u001b[0;34m.\u001b[0m\u001b[0mpy\u001b[0m\u001b[0;34m\u001b[0m\u001b[0m\n\u001b[1;32m   3403\u001b[0m         \"\"\"\n\u001b[0;32m-> 3404\u001b[0;31m         \u001b[0ma\u001b[0m \u001b[0;34m=\u001b[0m \u001b[0mmtext\u001b[0m\u001b[0;34m.\u001b[0m\u001b[0mAnnotation\u001b[0m\u001b[0;34m(\u001b[0m\u001b[0;34m*\u001b[0m\u001b[0margs\u001b[0m\u001b[0;34m,\u001b[0m \u001b[0;34m**\u001b[0m\u001b[0mkwargs\u001b[0m\u001b[0;34m)\u001b[0m\u001b[0;34m\u001b[0m\u001b[0m\n\u001b[0m\u001b[1;32m   3405\u001b[0m         \u001b[0ma\u001b[0m\u001b[0;34m.\u001b[0m\u001b[0mset_transform\u001b[0m\u001b[0;34m(\u001b[0m\u001b[0mmtransforms\u001b[0m\u001b[0;34m.\u001b[0m\u001b[0mIdentityTransform\u001b[0m\u001b[0;34m(\u001b[0m\u001b[0;34m)\u001b[0m\u001b[0;34m)\u001b[0m\u001b[0;34m\u001b[0m\u001b[0m\n\u001b[1;32m   3406\u001b[0m         \u001b[0mself\u001b[0m\u001b[0;34m.\u001b[0m\u001b[0m_set_artist_props\u001b[0m\u001b[0;34m(\u001b[0m\u001b[0ma\u001b[0m\u001b[0;34m)\u001b[0m\u001b[0;34m\u001b[0m\u001b[0m\n",
        "\u001b[0;31mTypeError\u001b[0m: __init__() takes at least 3 arguments (3 given)"
       ]
      },
      {
       "metadata": {},
       "output_type": "display_data",
       "png": "[encoded data removed]",
       "text": [
        "<matplotlib.figure.Figure at 0x10af471d0>"
       ]
      }
     ],
     "prompt_number": 74
    },
    {
     "cell_type": "code",
     "collapsed": false,
     "input": [],
     "language": "python",
     "metadata": {},
     "outputs": []
    }
   ],
   "metadata": {}
  }
 ]
}