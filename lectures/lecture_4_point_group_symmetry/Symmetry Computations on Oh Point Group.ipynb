{
 "metadata": {
  "name": ""
 },
 "nbformat": 3,
 "nbformat_minor": 0,
 "worksheets": [
  {
   "cells": [
    {
     "cell_type": "markdown",
     "metadata": {},
     "source": [
      "# NANO106 - Symmetry Computations on O$_h$ Point Group\n",
      "*by Shyue Ping Ong*\n",
      "\n",
      "This notebook demonstrates the computation of orbits in the O$_h$ point group (more complex than the simple mmm example). It is part of course material for UCSD's NANO106 - Crystallography of Materials."
     ]
    },
    {
     "cell_type": "markdown",
     "metadata": {},
     "source": [
      "# Preliminaries\n",
      "\n",
      "Let's start by importing the numpy, sympy and other packages we need."
     ]
    },
    {
     "cell_type": "code",
     "collapsed": false,
     "input": [
      "import numpy as np\n",
      "import itertools\n",
      "from sympy import symbols"
     ],
     "language": "python",
     "metadata": {},
     "outputs": [],
     "prompt_number": 1
    },
    {
     "cell_type": "markdown",
     "metadata": {},
     "source": [
      "We will now define a useful function for checking existence of np.arrays in a list of arrays. It is not the most efficient implementation, but would suffice for our purposes."
     ]
    },
    {
     "cell_type": "code",
     "collapsed": false,
     "input": [
      "def in_array_list(array_list, a):\n",
      "    for i in array_list:\n",
      "        if np.all(np.equal(a, i)):\n",
      "            return True\n",
      "    return False"
     ],
     "language": "python",
     "metadata": {},
     "outputs": [],
     "prompt_number": 2
    },
    {
     "cell_type": "markdown",
     "metadata": {},
     "source": [
      "# Generating the Symmetry Operations\n",
      "\n",
      "Next, we specify the generators for O$_h$ point group, which we choose to be the 4-fold rotation, 3-fold rotation and the perpendicular mirror plane."
     ]
    },
    {
     "cell_type": "code",
     "collapsed": false,
     "input": [
      "generators = [\n",
      "              [[0, 1, 0],\n",
      "               [-1, 0, 0],\n",
      "               [0, 0, 1]],\n",
      "              [[0, 1, 0],\n",
      "               [0, 0, 1],\n",
      "               [1, 0, 0]],\n",
      "              [[1, 0, 0],\n",
      "               [0, 1, 0],\n",
      "               [0, 0, -1]]\n",
      "              ]\n"
     ],
     "language": "python",
     "metadata": {},
     "outputs": [],
     "prompt_number": 3
    },
    {
     "cell_type": "markdown",
     "metadata": {},
     "source": [
      "We will now generate all the group symmetry operation matrices from the generators."
     ]
    },
    {
     "cell_type": "code",
     "collapsed": false,
     "input": [
      "symm_ops = []\n",
      "symm_ops.extend(generators)\n",
      "new_ops = generators\n",
      "\n",
      "while len(new_ops) > 0:\n",
      "    gen_ops = []\n",
      "    for g1, g2 in itertools.product(new_ops, symm_ops):\n",
      "        #Note that we cast the op to int to improve presentation of the results.\n",
      "        #This is fine in crystallographic reference frame.\n",
      "        op = np.dot(g1, g2)\n",
      "        if not in_array_list(symm_ops, op):\n",
      "            gen_ops.append(op)\n",
      "            symm_ops.append(op)\n",
      "        op = np.dot(g2, g1)\n",
      "        if not in_array_list(symm_ops, op):\n",
      "            gen_ops.append(op)\n",
      "            symm_ops.append(op)\n",
      "    new_ops = gen_ops\n",
      "print \"The order of the group is %d. The group matrices are:\" % len(symm_ops)\n",
      "for op in symm_ops:\n",
      "    print op"
     ],
     "language": "python",
     "metadata": {},
     "outputs": [
      {
       "output_type": "stream",
       "stream": "stdout",
       "text": [
        "The order of the group is 48. The group matrices are:\n",
        "[[0, 1, 0], [-1, 0, 0], [0, 0, 1]]\n",
        "[[0, 1, 0], [0, 0, 1], [1, 0, 0]]\n",
        "[[1, 0, 0], [0, 1, 0], [0, 0, -1]]\n",
        "[[-1  0  0]\n",
        " [ 0 -1  0]\n",
        " [ 0  0  1]]\n",
        "[[ 0  0  1]\n",
        " [ 0 -1  0]\n",
        " [ 1  0  0]]\n",
        "[[-1  0  0]\n",
        " [ 0  0  1]\n",
        " [ 0  1  0]]\n",
        "[[ 0  1  0]\n",
        " [-1  0  0]\n",
        " [ 0  0 -1]]\n",
        "[[0 0 1]\n",
        " [1 0 0]\n",
        " [0 1 0]]\n",
        "[[ 0  1  0]\n",
        " [ 0  0 -1]\n",
        " [ 1  0  0]]\n",
        "[[ 0  1  0]\n",
        " [ 0  0  1]\n",
        " [-1  0  0]]\n",
        "[[1 0 0]\n",
        " [0 1 0]\n",
        " [0 0 1]]\n",
        "[[ 0 -1  0]\n",
        " [ 1  0  0]\n",
        " [ 0  0  1]]\n",
        "[[ 0 -1  0]\n",
        " [ 0  0 -1]\n",
        " [ 1  0  0]]\n",
        "[[ 0 -1  0]\n",
        " [ 0  0  1]\n",
        " [-1  0  0]]\n",
        "[[-1  0  0]\n",
        " [ 0 -1  0]\n",
        " [ 0  0 -1]]\n",
        "[[ 0  0 -1]\n",
        " [ 0  1  0]\n",
        " [ 1  0  0]]\n",
        "[[ 0  0  1]\n",
        " [ 0  1  0]\n",
        " [-1  0  0]]\n",
        "[[ 1  0  0]\n",
        " [ 0  0 -1]\n",
        " [ 0  1  0]]\n",
        "[[ 1  0  0]\n",
        " [ 0  0  1]\n",
        " [ 0 -1  0]]\n",
        "[[ 0 -1  0]\n",
        " [ 1  0  0]\n",
        " [ 0  0 -1]]\n",
        "[[ 0  0 -1]\n",
        " [-1  0  0]\n",
        " [ 0  1  0]]\n",
        "[[ 0  0  1]\n",
        " [-1  0  0]\n",
        " [ 0 -1  0]]\n",
        "[[ 0 -1  0]\n",
        " [ 0  0  1]\n",
        " [ 1  0  0]]\n",
        "[[ 0 -1  0]\n",
        " [ 0  0 -1]\n",
        " [-1  0  0]]\n",
        "[[ 0  0 -1]\n",
        " [ 0 -1  0]\n",
        " [ 1  0  0]]\n",
        "[[ 0  0  1]\n",
        " [ 0 -1  0]\n",
        " [-1  0  0]]\n",
        "[[ 0  1  0]\n",
        " [ 0  0 -1]\n",
        " [-1  0  0]]\n",
        "[[ 0  0 -1]\n",
        " [ 1  0  0]\n",
        " [ 0 -1  0]]\n",
        "[[ 0  0 -1]\n",
        " [ 1  0  0]\n",
        " [ 0  1  0]]\n",
        "[[1 0 0]\n",
        " [0 0 1]\n",
        " [0 1 0]]\n",
        "[[ 0 -1  0]\n",
        " [-1  0  0]\n",
        " [ 0  0  1]]\n",
        "[[-1  0  0]\n",
        " [ 0  0 -1]\n",
        " [ 0  1  0]]\n",
        "[[-1  0  0]\n",
        " [ 0  0  1]\n",
        " [ 0 -1  0]]\n",
        "[[ 0  0  1]\n",
        " [ 1  0  0]\n",
        " [ 0 -1  0]]\n",
        "[[0 0 1]\n",
        " [0 1 0]\n",
        " [1 0 0]]\n",
        "[[ 1  0  0]\n",
        " [ 0  0 -1]\n",
        " [ 0 -1  0]]\n",
        "[[ 0  0 -1]\n",
        " [ 0  1  0]\n",
        " [-1  0  0]]\n",
        "[[ 0  0 -1]\n",
        " [ 0 -1  0]\n",
        " [-1  0  0]]\n",
        "[[-1  0  0]\n",
        " [ 0  0 -1]\n",
        " [ 0 -1  0]]\n",
        "[[ 1  0  0]\n",
        " [ 0 -1  0]\n",
        " [ 0  0  1]]\n",
        "[[-1  0  0]\n",
        " [ 0  1  0]\n",
        " [ 0  0  1]]\n",
        "[[ 0  0  1]\n",
        " [-1  0  0]\n",
        " [ 0  1  0]]\n",
        "[[ 0  0 -1]\n",
        " [-1  0  0]\n",
        " [ 0 -1  0]]\n",
        "[[0 1 0]\n",
        " [1 0 0]\n",
        " [0 0 1]]\n",
        "[[ 0  1  0]\n",
        " [ 1  0  0]\n",
        " [ 0  0 -1]]\n",
        "[[ 1  0  0]\n",
        " [ 0 -1  0]\n",
        " [ 0  0 -1]]\n",
        "[[ 0 -1  0]\n",
        " [-1  0  0]\n",
        " [ 0  0 -1]]\n",
        "[[-1  0  0]\n",
        " [ 0  1  0]\n",
        " [ 0  0 -1]]\n"
       ]
      }
     ],
     "prompt_number": 4
    },
    {
     "cell_type": "markdown",
     "metadata": {},
     "source": [
      "# Computing Orbits\n",
      "\n",
      "Using sympy, we specify the symbolic symbols x, y, z to represent position coordinates. We also define a function to generate the orbit given a set of symmetry operations and a point p."
     ]
    },
    {
     "cell_type": "code",
     "collapsed": false,
     "input": [
      "x, y, z = symbols(\"x y z\")\n",
      "\n",
      "def get_orbit(symm_ops, p):\n",
      "    \"\"\"Given a set of symmops and a point p, this function returns the orbit\"\"\"\n",
      "    orbit = []\n",
      "    for o in symm_ops:\n",
      "        pp = np.dot(o, p)\n",
      "        if not in_array_list(orbit, pp):\n",
      "            orbit.append(pp)\n",
      "    return orbit"
     ],
     "language": "python",
     "metadata": {},
     "outputs": [],
     "prompt_number": 5
    },
    {
     "cell_type": "markdown",
     "metadata": {},
     "source": [
      "## Orbit for General Position"
     ]
    },
    {
     "cell_type": "code",
     "collapsed": false,
     "input": [
      "p = np.array([x, y, z])\n",
      "orb = get_orbit(symm_ops, p)\n",
      "print \"For the general position %s, the orbit comprises %d points \" % (str(p), len(orb))\n",
      "for o in orb:\n",
      "    print o,"
     ],
     "language": "python",
     "metadata": {},
     "outputs": [
      {
       "output_type": "stream",
       "stream": "stdout",
       "text": [
        "For the general position [x y z], the orbit comprises 48 points \n",
        "[y -x z] [y z x] [x y -z] [-x -y z] [z -y x] [-x z y] [y -x -z] [z x y] [y -z x] [y z -x] [x y z] [-y x z] [-y -z x] [-y z -x] [-x -y -z] [-z y x] [z y -x] [x -z y] [x z -y] [-y x -z] [-z -x y] [z -x -y] [-y z x] [-y -z -x] [-z -y x] [z -y -x] [y -z -x] [-z x -y] [-z x y] [x z y] [-y -x z] [-x -z y] [-x z -y] [z x -y] [z y x] [x -z -y] [-z y -x] [-z -y -x] [-x -z -y] [x -y z] [-x y z] [z -x y] [-z -x -y] [y x z] [y x -z] [x -y -z] [-y -x -z] [-x y -z]\n"
       ]
      }
     ],
     "prompt_number": 6
    },
    {
     "cell_type": "markdown",
     "metadata": {},
     "source": [
      "## Orbit for Special Position on two-fold rotation axes"
     ]
    },
    {
     "cell_type": "code",
     "collapsed": false,
     "input": [
      "p = np.array([0, 0, z])\n",
      "orb = get_orbit(symm_ops, p)\n",
      "print \"For the special position %s on the two-fold axis, the orbit comprise %d points:\" % (str(p), len(orb))\n",
      "for o in orb:\n",
      "    print o,"
     ],
     "language": "python",
     "metadata": {},
     "outputs": [
      {
       "output_type": "stream",
       "stream": "stdout",
       "text": [
        "For the special position [0 0 z] on the two-fold axis, the orbit comprise 6 points:\n",
        "[0 0 z] [0 z 0] [0 0 -z] [z 0 0] [0 -z 0] [-z 0 0]\n"
       ]
      }
     ],
     "prompt_number": 7
    },
    {
     "cell_type": "markdown",
     "metadata": {},
     "source": [
      "The orbit is similar for the other two-fold axes on the a and b axes are similar."
     ]
    },
    {
     "cell_type": "markdown",
     "metadata": {},
     "source": [
      "## Orbit for Special Position on mirror planes\n",
      "\n",
      "Positions on the mirror on the a-b plane have coordinates (x, y, 0)."
     ]
    },
    {
     "cell_type": "code",
     "collapsed": false,
     "input": [
      "p = np.array([x, y, 0])\n",
      "orb = get_orbit(symm_ops, p)\n",
      "print \"For the special position %s on the two-fold axis, the orbit comprise %d points:\" % (str(p), len(orb))\n",
      "for o in orb:\n",
      "    print o,"
     ],
     "language": "python",
     "metadata": {},
     "outputs": [
      {
       "output_type": "stream",
       "stream": "stdout",
       "text": [
        "For the special position [x y 0] on the two-fold axis, the orbit comprise 24 points:\n",
        "[y -x 0] [y 0 x] [x y 0] [-x -y 0] [0 -y x] [-x 0 y] [0 x y] [y 0 -x] [-y x 0] [-y 0 x] [-y 0 -x] [0 y x] [0 y -x] [x 0 y] [x 0 -y] [0 -x y] [0 -x -y] [0 -y -x] [0 x -y] [-y -x 0] [-x 0 -y] [x -y 0] [-x y 0] [y x 0]\n"
       ]
      }
     ],
     "prompt_number": 8
    },
    {
     "cell_type": "markdown",
     "metadata": {},
     "source": [
      "The orbit is similar for the other two mirror planes on the a-c and b-c planes are similar."
     ]
    }
   ],
   "metadata": {}
  }
 ]
}